{
 "cells": [
  {
   "cell_type": "code",
   "execution_count": null,
   "metadata": {},
   "outputs": [],
   "source": [
    "import tensorflow as tf\n",
    "import numpy as np\n",
    "from trade_sim import Market\n",
    "import tensorflow.contrib as contrib\n",
    "import os\n",
    "from multiprocessing import Process, SimpleQueue\n",
    "import random"
   ]
  },
  {
   "cell_type": "code",
   "execution_count": null,
   "metadata": {},
   "outputs": [],
   "source": [
    "class Agent:\n",
    "    def __init__(self, numberOfCurrencies, timeFrame, sess, initialPortfolio=10000.0):\n",
    "        self._s = sess\n",
    "        self.inputT = tf.placeholder(shape=[None, numberOfCurrencies, timeFrame, 3], dtype=tf.float32)\n",
    "        self.conv1 = tf.layers.conv2d(inputs=self.inputT, filters=20, kernel_size=[1,3])\n",
    "      #  self.conv1 = tf.nn.depthwise_conv2d(self.inputT, [1,3,3,4], [1,1,1,1], 'SAME')\n",
    "        self.conv2 = tf.layers.conv2d(inputs=self.conv1, filters=50, kernel_size=[1,8])\n",
    "        self.conv3 = tf.layers.conv2d(inputs = self.conv2, filters=10, kernel_size=[1,41])\n",
    "        self.conv4 = tf.layers.conv2d(inputs=self.conv3, filters=15, kernel_size=[1,1])\n",
    "        self.final = tf.layers.dense(self.conv3, 1)\n",
    "        self._allocate = tf.nn.softmax(self.final, axis=1)\n",
    "        print(self.final.shape)\n",
    "        \n",
    "        self.priceChanges = tf.placeholder(shape=[None, numberOfCurrencies, 1], dtype=tf.float32)\n",
    "        \n",
    "        self.loss = -tf.matmul(tf.matrix_transpose(self.priceChanges), \n",
    "                                 tf.scalar_mul(tf.constant(initialPortfolio), \n",
    "                                               tf.reshape(self._allocate, [-1, numberOfCurrencies, 1])))\n",
    "        self.averageLoss = tf.reduce_mean(self.loss)\n",
    "        self.optimizer = tf.train.AdamOptimizer(learning_rate=0.001)\n",
    "        self._train = self.optimizer.minimize(self.loss)\n",
    "        \n",
    "    def act(self, observation):\n",
    "        return self._s.run(self._allocate, feed_dict={self.inputT: observation})\n",
    "    \n",
    "    def train_step(self, obs, prices):\n",
    "        batch_feed = {self.inputT : obs,\n",
    "                     self.priceChanges: prices\n",
    "                     }\n",
    "        _, lossValue = self._s.run([self._train, self.loss], feed_dict=batch_feed)\n",
    "        return lossValue"
   ]
  },
  {
   "cell_type": "code",
   "execution_count": null,
   "metadata": {},
   "outputs": [],
   "source": [
    "def importData(simulator):\n",
    "    testSim = simulator\n",
    "    q = SimpleQueue()\n",
    "    jobs = []\n",
    "    PERIOD_SIZE = 50\n",
    "    BATCH_SIZE = 10\n",
    "    BATCH_COUNT = 10\n",
    "    BATCH_OFFSET = 0\n",
    "    dates = testSim.getAllDates()\n",
    "    index = list(range(BATCH_COUNT))\n",
    "    feed = []\n",
    "\n",
    "    running = False\n",
    "    count = 0\n",
    "    while 1:\n",
    "        if count < 10:\n",
    "            for i in random.sample(index, 10-count if len(index) >= 10-count else len(index)):\n",
    "                p = Process(target=testSim.processTimePeriod, args=(q, PERIOD_SIZE, dates, PERIOD_SIZE * (i + BATCH_OFFSET) + PERIOD_SIZE, BATCH_SIZE))\n",
    "                jobs.append(p)\n",
    "                p.start() \n",
    "                index.remove(i)\n",
    "        count = 0\n",
    "        for p in jobs:\n",
    "            if not p.is_alive():\n",
    "                print('Terminating')\n",
    "                p.terminate()\n",
    "                jobs.remove(p)\n",
    "            else:\n",
    "                count += 1\n",
    "        while not q.empty():\n",
    "            print('Getting')\n",
    "            feed.append(q.get())\n",
    "        if count == 0 and len(index) == 0: \n",
    "            break\n",
    "    return feed"
   ]
  },
  {
   "cell_type": "code",
   "execution_count": null,
   "metadata": {},
   "outputs": [],
   "source": [
    "def main():\n",
    "    testSim = Market(['EUR','USD'], os.path.abspath('../Data_Processing/ProcessedData'))\n",
    "    feed = importData(testSim)\n",
    "    tf.set_random_seed(3)\n",
    "    with tf.Session() as sess:\n",
    "        test1 = Agent(len(testSim.currencies), 50, sess)\n",
    "        \n",
    "        sess.run(tf.global_variables_initializer())\n",
    "        prices = []\n",
    "        batches = []\n",
    "        \n",
    "            \n",
    "        while 1:\n",
    "            index = list(range(len(feed)))\n",
    "            loss = 0\n",
    "            count = len(feed)\n",
    "            while len(index) != 0:\n",
    "                for i in random.sample(index, 1):\n",
    "                    loss += test1.train_step(feed[i][0], feed[i][1])\n",
    "                    index.remove(i)\n",
    "            print(\"Loss: {}\", loss/count)\n",
    " \n",
    "#         for index in range(len(allDates)):\n",
    "#             obs.append(testSim.processTimePeriod(50, allDates[index]))\n",
    "#             prices.append(testSim.processTimePeriod(50, allDates[index]))\n",
    "            \n",
    "#             i = index\n",
    "#             while obsSingle is None and pricesSingle is None:\n",
    "#                 obsSingle = testSim.processTimePeriod(50, allDates[i])\n",
    "#                 pricesSingle = testSim.processTimePeriod(50, allDates[i])\n",
    "#                 i += 1\n",
    "#         for _ in range(20000):\n",
    "#             test1.train_step(obs, prices)\n",
    "#         print(test1.act(obs))\n",
    "#         print(prices)\n",
    "#         print(test1._s.run(test1.loss, feed_dict={test1.inputT: obs, test1.priceChanges:prices}))\n",
    "        "
   ]
  },
  {
   "cell_type": "code",
   "execution_count": null,
   "metadata": {
    "scrolled": true
   },
   "outputs": [],
   "source": [
    "if __name__ == \"__main__\":\n",
    "    main()"
   ]
  },
  {
   "cell_type": "code",
   "execution_count": null,
   "metadata": {},
   "outputs": [],
   "source": []
  }
 ],
 "metadata": {
  "kernelspec": {
   "display_name": "Python 3",
   "language": "python",
   "name": "python3"
  },
  "language_info": {
   "codemirror_mode": {
    "name": "ipython",
    "version": 3
   },
   "file_extension": ".py",
   "mimetype": "text/x-python",
   "name": "python",
   "nbconvert_exporter": "python",
   "pygments_lexer": "ipython3",
   "version": "3.6.5"
  }
 },
 "nbformat": 4,
 "nbformat_minor": 2
}
