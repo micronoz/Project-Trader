{
 "cells": [
  {
   "cell_type": "code",
   "execution_count": 16,
   "metadata": {},
   "outputs": [],
   "source": [
    "import tensorflow as tf\n",
    "import numpy as np\n",
    "from trade_sim import Market\n",
    "import tensorflow.contrib as contrib\n",
    "import os"
   ]
  },
  {
   "cell_type": "code",
   "execution_count": 21,
   "metadata": {},
   "outputs": [],
   "source": [
    "class Agent:\n",
    "    def __init__(self, numberOfCurrencies, timeFrame, sess, initialPortfolio=1000):\n",
    "        self._s = sess\n",
    "        self.inputT = tf.placeholder(shape=[None, numberOfCurrencies, timeFrame, 3], dtype=tf.float32)\n",
    "        self.conv1 = contrib.layers.conv2d(inputs=self.inputT, num_outputs=3, kernel_size=[1,3])\n",
    "        self.conv2 = contrib.layers.conv2d(inputs=self.conv1, num_outputs=20, kernel_size=[1,48])\n",
    "        self.conv3 = contrib.layers.conv2d(inputs=self.conv2, num_outputs=1, kernel_size=[1,1])\n",
    "        self._allocate = contrib.layers.softmax(self.conv3)\n",
    "        \n",
    "        self.priceChanges = tf.placeholder(shape=[1,numberOfCurrencies], dtype=tf.float32)\n",
    "        self.loss = (tf.reduce_sum(tf.log(tf.multiply(self._allocate, self.priceChanges))))\n",
    "        self.optimizer = tf.train.AdamOptimizer(0.1)\n",
    "        self._train = self.optimizer.minimize(self.loss)\n",
    "        \n",
    "    def act(self, observation):\n",
    "        return self._s.run(self._allocate, feed_dict={self.inputT: [observation]})\n",
    "    \n",
    "    def train_step(self, obs, prices):\n",
    "        batch_feed = {self.inputT : obs,\n",
    "                     self.priceChanges: prices\n",
    "                     }\n",
    "        self._s.run(self._train, feed_dict=batch_feed)"
   ]
  },
  {
   "cell_type": "code",
   "execution_count": 22,
   "metadata": {},
   "outputs": [],
   "source": [
    "with tf.Session() as sess:\n",
    "    test1 = Agent(3, 50, sess)"
   ]
  },
  {
   "cell_type": "code",
   "execution_count": null,
   "metadata": {},
   "outputs": [],
   "source": []
  }
 ],
 "metadata": {
  "kernelspec": {
   "display_name": "Python 3",
   "language": "python",
   "name": "python3"
  },
  "language_info": {
   "codemirror_mode": {
    "name": "ipython",
    "version": 3
   },
   "file_extension": ".py",
   "mimetype": "text/x-python",
   "name": "python",
   "nbconvert_exporter": "python",
   "pygments_lexer": "ipython3",
   "version": "3.6.5"
  }
 },
 "nbformat": 4,
 "nbformat_minor": 2
}
