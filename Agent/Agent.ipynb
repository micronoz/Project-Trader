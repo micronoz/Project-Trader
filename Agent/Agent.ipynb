{
 "cells": [
  {
   "cell_type": "code",
   "execution_count": 20,
   "metadata": {},
   "outputs": [],
   "source": [
    "import tensorflow as tf\n",
    "import numpy as np\n",
    "from trade_sim import Market\n",
    "import tensorflow.contrib as contrib\n",
    "import os\n",
    "from multiprocessing import Process, Queue, Pool"
   ]
  },
  {
   "cell_type": "code",
   "execution_count": 21,
   "metadata": {},
   "outputs": [],
   "source": [
    "class Agent:\n",
    "    def __init__(self, numberOfCurrencies, timeFrame, sess, initialPortfolio=1000.0):\n",
    "        self._s = sess\n",
    "        self.inputT = tf.placeholder(shape=[None, numberOfCurrencies, timeFrame, 3], dtype=tf.float32)\n",
    "        self.conv1 = tf.layers.conv2d(inputs=self.inputT, filters=50, kernel_size=[1,3])\n",
    "      #  self.conv1 = tf.nn.depthwise_conv2d(self.inputT, [1,3,3,4], [1,1,1,1], 'SAME')\n",
    "        self.conv2 = tf.layers.conv2d(inputs=self.conv1, filters=50, kernel_size=[1,48])\n",
    "        self.conv3 = tf.layers.conv2d(inputs=self.conv2, filters=1, kernel_size=[1,1])\n",
    "        self.final = tf.layers.dense(self.conv3, 1)\n",
    "        self._allocate = tf.nn.softmax(self.final, axis=1)\n",
    "        \n",
    "        self.priceChanges = tf.placeholder(shape=[None, numberOfCurrencies, 1], dtype=tf.float32)\n",
    "        \n",
    "        self.loss = tf.subtract(tf.constant(initialPortfolio), tf.matmul(tf.matrix_transpose(self.priceChanges), tf.scalar_mul(tf.constant(initialPortfolio), tf.reshape(self._allocate, [-1, numberOfCurrencies, 1]))))\n",
    "        self.optimizer = tf.train.AdamOptimizer(learning_rate=0.001)\n",
    "        self._train = self.optimizer.minimize(self.loss)\n",
    "        \n",
    "    def act(self, observation):\n",
    "        return self._s.run(self._allocate, feed_dict={self.inputT: observation})\n",
    "    \n",
    "    def train_step(self, obs, prices):\n",
    "        batch_feed = {self.inputT : obs,\n",
    "                     self.priceChanges: prices\n",
    "                     }\n",
    "        self._s.run(self._train, feed_dict=batch_feed)"
   ]
  },
  {
   "cell_type": "code",
   "execution_count": 22,
   "metadata": {},
   "outputs": [],
   "source": [
    "def main():\n",
    "    testSim = Market(['EUR','USD', 'JPY'], os.path.abspath('../Data_Processing/ProcessedData'))\n",
    "    with tf.Session() as sess:\n",
    "        test1 = Agent(len(testSim.currencies), 50, sess)\n",
    "        sess.run(tf.global_variables_initializer())\n",
    "        prices = []\n",
    "        batches = []\n",
    "        q = Queue()\n",
    "        jobs = []\n",
    "        for i in range(10):\n",
    "            p = Process(target=testSim.processTimePeriod, args=(q, 50, testSim.getAllDates(), 50 * i, 50 * i + 50))\n",
    "            jobs.append(p)\n",
    "            p.start()\n",
    "            \n",
    "        try:\n",
    "            for process in jobs:\n",
    "                process.join()\n",
    "        except KeyboardInterrupt:\n",
    "            for process in jobs:\n",
    "                process.terminate()\n",
    " \n",
    "#         for index in range(len(allDates)):\n",
    "#             obs.append(testSim.processTimePeriod(50, allDates[index]))\n",
    "#             prices.append(testSim.processTimePeriod(50, allDates[index]))\n",
    "            \n",
    "#             i = index\n",
    "#             while obsSingle is None and pricesSingle is None:\n",
    "#                 obsSingle = testSim.processTimePeriod(50, allDates[i])\n",
    "#                 pricesSingle = testSim.processTimePeriod(50, allDates[i])\n",
    "#                 i += 1\n",
    "#         for _ in range(20000):\n",
    "#             test1.train_step(obs, prices)\n",
    "#         print(test1.act(obs))\n",
    "#         print(prices)\n",
    "#         print(test1._s.run(test1.loss, feed_dict={test1.inputT: obs, test1.priceChanges:prices}))\n",
    "        "
   ]
  },
  {
   "cell_type": "code",
   "execution_count": 23,
   "metadata": {
    "scrolled": false
   },
   "outputs": [],
   "source": [
    "if __name__ == \"__main__\":\n",
    "    main()"
   ]
  },
  {
   "cell_type": "code",
   "execution_count": null,
   "metadata": {},
   "outputs": [],
   "source": []
  }
 ],
 "metadata": {
  "kernelspec": {
   "display_name": "Python 3",
   "language": "python",
   "name": "python3"
  },
  "language_info": {
   "codemirror_mode": {
    "name": "ipython",
    "version": 3
   },
   "file_extension": ".py",
   "mimetype": "text/x-python",
   "name": "python",
   "nbconvert_exporter": "python",
   "pygments_lexer": "ipython3",
   "version": "3.6.5"
  }
 },
 "nbformat": 4,
 "nbformat_minor": 2
}
