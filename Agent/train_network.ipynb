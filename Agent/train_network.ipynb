{
 "cells": [
  {
   "cell_type": "code",
   "execution_count": 1,
   "metadata": {},
   "outputs": [],
   "source": [
    "import tensorflow as tf\n",
    "import numpy as np\n",
    "from trade_sim import Market\n",
    "import tensorflow.contrib as contrib\n",
    "import os\n",
    "from multiprocessing import Process, Queue, Manager\n",
    "import random\n",
    "import math\n",
    "import time"
   ]
  },
  {
   "cell_type": "code",
   "execution_count": 2,
   "metadata": {},
   "outputs": [],
   "source": [
    "class Agent:\n",
    "    def __init__(self, numberOfCurrencies, sess, timeFrame=50,  initialPortfolio=10000.0):\n",
    "        self._s = sess\n",
    "        self._isTraining = tf.placeholder(dtype=bool)\n",
    "        self.inputT = tf.placeholder(shape=[None, numberOfCurrencies, timeFrame, 3], dtype=tf.float32)\n",
    "        self.model = tf.layers.conv2d(inputs=self.inputT, filters=3, kernel_size=[1,3], activation=tf.nn.leaky_relu)\n",
    "        self.model = tf.layers.conv2d(inputs=self.model, filters=20, kernel_size=[1,48], activation=tf.nn.leaky_relu)\n",
    "        self.model = tf.layers.dense(self.model, 1000, activation=tf.nn.leaky_relu)\n",
    "        self.model = tf.layers.dense(self.model, numberOfCurrencies)\n",
    "        self._allocate = tf.nn.softmax(self.model, axis=3)\n",
    "        \n",
    "        self.priceChanges = tf.placeholder(shape=[None, numberOfCurrencies, 1], dtype=tf.float32)\n",
    "        \n",
    "        #self.loss = -tf.matmul(tf.matrix_transpose(tf.nn.leaky_relu(tf.log(self.priceChanges), alpha=10)),tf.reshape(self._allocate, [-1, numberOfCurrencies, 1]))\n",
    "        self.averageLoss = tf.reduce_mean(tf.matmul(tf.matrix_transpose(self.priceChanges), \n",
    "                                             tf.scalar_mul(tf.constant(initialPortfolio), \n",
    "                                               tf.reshape(self._allocate, [-1, numberOfCurrencies, 1]))))\n",
    "        self.loss = tf.exp(tf.reduce_sum(tf.multiply(-tf.log(tf.reshape(self.priceChanges, [-1, numberOfCurrencies])), self._allocate), 1))\n",
    "        self.optimizer = tf.train.AdamOptimizer(learning_rate=0.002)\n",
    "        self._train = self.optimizer.minimize(self.loss)\n",
    "        \n",
    "    def act(self, observation):\n",
    "        return self._s.run(self._allocate, feed_dict={self.inputT: observation})\n",
    "    \n",
    "    def train_step(self, obs, prices):\n",
    "        batch_feed = {self.inputT : obs,\n",
    "                     self.priceChanges: prices,\n",
    "                      self._isTraining: True\n",
    "                     }\n",
    "        _, lossValue = self._s.run([self._train, self.averageLoss], feed_dict=batch_feed)\n",
    "        return lossValue\n",
    "    def test_model(self, obs, prices):\n",
    "        print(self._s.run([self.averageLoss, self._allocate], feed_dict={self.inputT : obs, self.priceChanges: prices, self._isTraining: False}))\n",
    "        print(prices)"
   ]
  },
  {
   "cell_type": "code",
   "execution_count": 3,
   "metadata": {},
   "outputs": [],
   "source": [
    "class DataManager:\n",
    "    def __init__(self, batch_size=1, batch_count=0, period_size=50, batch_offset=0):\n",
    "        self.batchPath = os.path.abspath(\"./Batches\")\n",
    "        self.labelPath = os.path.abspath(\"./Labels\")\n",
    "        self.threads = 8\n",
    "        self.batch = batch_count\n",
    "        self.batch_size = batch_size\n",
    "        self.period_size = period_size\n",
    "        self.offset = batch_offset\n",
    "        \n",
    "            \n",
    "    def importData(self, simulator):\n",
    "        testSim = simulator\n",
    "        manager = Manager()\n",
    "        d = manager.list()\n",
    "        q = Queue()\n",
    "        jobs = []\n",
    "        PERIOD_SIZE = self.period_size\n",
    "        BATCH_SIZE = self.batch_size\n",
    "        \n",
    "        if self.batch == 0:\n",
    "            minSize = math.inf\n",
    "            for pair in simulator.df.values():\n",
    "                if len(pair.index) < minSize:\n",
    "                    minSize = len(pair.index)\n",
    "            print(minSize)\n",
    "            self.batch = int(math.floor(minSize / self.batch_size))\n",
    "\n",
    "        BATCH_COUNT = self.batch\n",
    "        BATCH_OFFSET = self.offset\n",
    "        dates = testSim.getAllDates()\n",
    "        index = list(range(BATCH_COUNT))\n",
    "        feed = []\n",
    "\n",
    "        running = False\n",
    "        count = 0\n",
    "        countFile = 0\n",
    "        prevIndex = [-1 for i in range(len(simulator.currencies))]\n",
    "        for i in index:\n",
    "            prevIndex = testSim.processTimePeriod(d, PERIOD_SIZE, dates, BATCH_SIZE * (i+BATCH_OFFSET) + PERIOD_SIZE, BATCH_SIZE, prevIndex)\n",
    "            pair = d.pop(0)\n",
    "            np.save((os.path.join(self.batchPath, \"Batch_\" + str(countFile))), pair[0])\n",
    "            np.save((os.path.join(self.labelPath, \"Label_\" + str(countFile))), pair[1])\n",
    "            countFile += 1\n",
    "    \n",
    "    def prepareData(self, simulator, reset=False):\n",
    "        if not os.path.exists(self.batchPath):\n",
    "            os.makedirs(self.batchPath)\n",
    "        if not os.path.exists(self.labelPath):\n",
    "            os.makedirs(self.labelPath)\n",
    "        if reset:\n",
    "            for folder in (self.batchPath, self.labelPath):\n",
    "                for the_file in os.listdir(folder):\n",
    "                    file_path = os.path.join(folder, the_file)\n",
    "                    try:\n",
    "                        if os.path.isfile(file_path):\n",
    "                            os.unlink(file_path)\n",
    "                    except:\n",
    "                        pass\n",
    "        if \"Done\" in os.listdir(self.batchPath):\n",
    "            return\n",
    "        now = time.time()\n",
    "        fullData = self.importData(simulator)\n",
    "        later = time.time()\n",
    "        print('Total time for all data:{} seconds'.format(int(later-now)))\n",
    "        count = 0\n",
    "        f = open(os.path.join(self.batchPath, \"Done\"), 'w')\n",
    "        f.close()\n",
    "\n",
    "    def readFiles(self, fileRangeStart, fileRangeEnd):\n",
    "        listL = []\n",
    "        for i in range(fileRangeStart, fileRangeEnd):\n",
    "            listL.append((str(i), np.load(os.path.join(self.batchPath, \"Batch_\" + str(i) + \".npy\")), np.load(os.path.join(self.labelPath, \"Label_\"+ str(i) + \".npy\"))))\n",
    "        return listL"
   ]
  },
  {
   "cell_type": "code",
   "execution_count": 4,
   "metadata": {},
   "outputs": [],
   "source": [
    "testSim = Market(['EUR','USD', 'TRY', 'JPY'], os.path.abspath('../Data_Processing/ProcessedData'))"
   ]
  },
  {
   "cell_type": "code",
   "execution_count": 5,
   "metadata": {
    "scrolled": true
   },
   "outputs": [
    {
     "ename": "IndexError",
     "evalue": "index 1 is out of bounds for axis 0 with size 1",
     "output_type": "error",
     "traceback": [
      "\u001b[0;31m---------------------------------------------------------------------------\u001b[0m",
      "\u001b[0;31mIndexError\u001b[0m                                Traceback (most recent call last)",
      "\u001b[0;32m<ipython-input-5-5765fdd0a7ad>\u001b[0m in \u001b[0;36m<module>\u001b[0;34m()\u001b[0m\n\u001b[1;32m      1\u001b[0m \u001b[0mdata\u001b[0m \u001b[0;34m=\u001b[0m \u001b[0mDataManager\u001b[0m\u001b[0;34m(\u001b[0m\u001b[0mbatch_size\u001b[0m \u001b[0;34m=\u001b[0m \u001b[0;36m50\u001b[0m\u001b[0;34m,\u001b[0m \u001b[0mbatch_count\u001b[0m \u001b[0;34m=\u001b[0m \u001b[0;36m5000000\u001b[0m\u001b[0;34m,\u001b[0m \u001b[0mbatch_offset\u001b[0m\u001b[0;34m=\u001b[0m\u001b[0;36m0\u001b[0m\u001b[0;34m)\u001b[0m\u001b[0;34m\u001b[0m\u001b[0m\n\u001b[0;32m----> 2\u001b[0;31m \u001b[0mdata\u001b[0m\u001b[0;34m.\u001b[0m\u001b[0mprepareData\u001b[0m\u001b[0;34m(\u001b[0m\u001b[0mtestSim\u001b[0m\u001b[0;34m,\u001b[0m \u001b[0mreset\u001b[0m\u001b[0;34m=\u001b[0m\u001b[0;32mTrue\u001b[0m\u001b[0;34m)\u001b[0m\u001b[0;34m\u001b[0m\u001b[0m\n\u001b[0m",
      "\u001b[0;32m<ipython-input-3-6e6e11b0137d>\u001b[0m in \u001b[0;36mprepareData\u001b[0;34m(self, simulator, reset)\u001b[0m\n\u001b[1;32m     88\u001b[0m             \u001b[0;32mreturn\u001b[0m\u001b[0;34m\u001b[0m\u001b[0m\n\u001b[1;32m     89\u001b[0m         \u001b[0mnow\u001b[0m \u001b[0;34m=\u001b[0m \u001b[0mtime\u001b[0m\u001b[0;34m.\u001b[0m\u001b[0mtime\u001b[0m\u001b[0;34m(\u001b[0m\u001b[0;34m)\u001b[0m\u001b[0;34m\u001b[0m\u001b[0m\n\u001b[0;32m---> 90\u001b[0;31m         \u001b[0mfullData\u001b[0m \u001b[0;34m=\u001b[0m \u001b[0mself\u001b[0m\u001b[0;34m.\u001b[0m\u001b[0mimportData\u001b[0m\u001b[0;34m(\u001b[0m\u001b[0msimulator\u001b[0m\u001b[0;34m)\u001b[0m\u001b[0;34m\u001b[0m\u001b[0m\n\u001b[0m\u001b[1;32m     91\u001b[0m         \u001b[0mlater\u001b[0m \u001b[0;34m=\u001b[0m \u001b[0mtime\u001b[0m\u001b[0;34m.\u001b[0m\u001b[0mtime\u001b[0m\u001b[0;34m(\u001b[0m\u001b[0;34m)\u001b[0m\u001b[0;34m\u001b[0m\u001b[0m\n\u001b[1;32m     92\u001b[0m         \u001b[0mprint\u001b[0m\u001b[0;34m(\u001b[0m\u001b[0;34m'Total time for all data:{} seconds'\u001b[0m\u001b[0;34m.\u001b[0m\u001b[0mformat\u001b[0m\u001b[0;34m(\u001b[0m\u001b[0mint\u001b[0m\u001b[0;34m(\u001b[0m\u001b[0mlater\u001b[0m\u001b[0;34m-\u001b[0m\u001b[0mnow\u001b[0m\u001b[0;34m)\u001b[0m\u001b[0;34m)\u001b[0m\u001b[0;34m)\u001b[0m\u001b[0;34m\u001b[0m\u001b[0m\n",
      "\u001b[0;32m<ipython-input-3-6e6e11b0137d>\u001b[0m in \u001b[0;36mimportData\u001b[0;34m(self, simulator)\u001b[0m\n\u001b[1;32m     61\u001b[0m         \u001b[0mprevIndex\u001b[0m \u001b[0;34m=\u001b[0m \u001b[0;34m[\u001b[0m\u001b[0;34m-\u001b[0m\u001b[0;36m1\u001b[0m \u001b[0;32mfor\u001b[0m \u001b[0mi\u001b[0m \u001b[0;32min\u001b[0m \u001b[0mrange\u001b[0m\u001b[0;34m(\u001b[0m\u001b[0mlen\u001b[0m\u001b[0;34m(\u001b[0m\u001b[0msimulator\u001b[0m\u001b[0;34m.\u001b[0m\u001b[0mcurrencies\u001b[0m\u001b[0;34m)\u001b[0m\u001b[0;34m)\u001b[0m\u001b[0;34m]\u001b[0m\u001b[0;34m\u001b[0m\u001b[0m\n\u001b[1;32m     62\u001b[0m         \u001b[0;32mfor\u001b[0m \u001b[0mi\u001b[0m \u001b[0;32min\u001b[0m \u001b[0mindex\u001b[0m\u001b[0;34m:\u001b[0m\u001b[0;34m\u001b[0m\u001b[0m\n\u001b[0;32m---> 63\u001b[0;31m             \u001b[0mprevIndex\u001b[0m \u001b[0;34m=\u001b[0m \u001b[0mtestSim\u001b[0m\u001b[0;34m.\u001b[0m\u001b[0mprocessTimePeriod\u001b[0m\u001b[0;34m(\u001b[0m\u001b[0md\u001b[0m\u001b[0;34m,\u001b[0m \u001b[0mPERIOD_SIZE\u001b[0m\u001b[0;34m,\u001b[0m \u001b[0mdates\u001b[0m\u001b[0;34m,\u001b[0m \u001b[0mBATCH_SIZE\u001b[0m \u001b[0;34m*\u001b[0m \u001b[0;34m(\u001b[0m\u001b[0mi\u001b[0m\u001b[0;34m+\u001b[0m\u001b[0mBATCH_OFFSET\u001b[0m\u001b[0;34m)\u001b[0m \u001b[0;34m+\u001b[0m \u001b[0mPERIOD_SIZE\u001b[0m\u001b[0;34m,\u001b[0m \u001b[0mBATCH_SIZE\u001b[0m\u001b[0;34m,\u001b[0m \u001b[0mprevIndex\u001b[0m\u001b[0;34m)\u001b[0m\u001b[0;34m\u001b[0m\u001b[0m\n\u001b[0m\u001b[1;32m     64\u001b[0m             \u001b[0mpair\u001b[0m \u001b[0;34m=\u001b[0m \u001b[0md\u001b[0m\u001b[0;34m.\u001b[0m\u001b[0mpop\u001b[0m\u001b[0;34m(\u001b[0m\u001b[0;36m0\u001b[0m\u001b[0;34m)\u001b[0m\u001b[0;34m\u001b[0m\u001b[0m\n\u001b[1;32m     65\u001b[0m            \u001b[0;31m# print('END OF CALL ---------------------')\u001b[0m\u001b[0;34m\u001b[0m\u001b[0;34m\u001b[0m\u001b[0m\n",
      "\u001b[0;32m~/Learning/Trader/Agent/trade_sim.py\u001b[0m in \u001b[0;36mprocessTimePeriod\u001b[0;34m(self, resultD, timePeriod, lastDate, startIndex, size, prevIndex)\u001b[0m\n\u001b[1;32m    239\u001b[0m                 \u001b[0mallPrices\u001b[0m\u001b[0;34m[\u001b[0m\u001b[0mcount\u001b[0m\u001b[0;34m,\u001b[0m \u001b[0mm\u001b[0m\u001b[0;34m,\u001b[0m \u001b[0;34m:\u001b[0m\u001b[0;34m,\u001b[0m \u001b[0;34m:\u001b[0m\u001b[0;34m]\u001b[0m \u001b[0;34m=\u001b[0m \u001b[0mopenProcessed\u001b[0m\u001b[0;34m\u001b[0m\u001b[0m\n\u001b[1;32m    240\u001b[0m \u001b[0;31m#                 print('Rate limit is {}'.format(index  + i))\u001b[0m\u001b[0;34m\u001b[0m\u001b[0;34m\u001b[0m\u001b[0m\n\u001b[0;32m--> 241\u001b[0;31m                 \u001b[0mallRates\u001b[0m\u001b[0;34m[\u001b[0m\u001b[0mcount\u001b[0m\u001b[0;34m]\u001b[0m \u001b[0;34m=\u001b[0m \u001b[0;34m(\u001b[0m\u001b[0mself\u001b[0m\u001b[0;34m.\u001b[0m\u001b[0mgetRates\u001b[0m\u001b[0;34m(\u001b[0m\u001b[0mindex\u001b[0m  \u001b[0;34m+\u001b[0m \u001b[0mi\u001b[0m\u001b[0;34m)\u001b[0m\u001b[0;34m)\u001b[0m\u001b[0;34m\u001b[0m\u001b[0m\n\u001b[0m\u001b[1;32m    242\u001b[0m                 \u001b[0;32mif\u001b[0m \u001b[0mnp\u001b[0m\u001b[0;34m.\u001b[0m\u001b[0many\u001b[0m\u001b[0;34m(\u001b[0m\u001b[0mallRates\u001b[0m\u001b[0;34m[\u001b[0m\u001b[0mcount\u001b[0m\u001b[0;34m]\u001b[0m \u001b[0;34m<\u001b[0m \u001b[0;36m0\u001b[0m\u001b[0;34m)\u001b[0m\u001b[0;34m:\u001b[0m\u001b[0;34m\u001b[0m\u001b[0m\n\u001b[1;32m    243\u001b[0m                     \u001b[0mprint\u001b[0m\u001b[0;34m(\u001b[0m\u001b[0;34m\"ERROR\"\u001b[0m\u001b[0;34m)\u001b[0m\u001b[0;34m\u001b[0m\u001b[0m\n",
      "\u001b[0;32m~/Learning/Trader/Agent/trade_sim.py\u001b[0m in \u001b[0;36mgetRates\u001b[0;34m(self, dateIndex)\u001b[0m\n\u001b[1;32m    134\u001b[0m \u001b[0;31m#                 finalPrice = 1/self.df[pair].loc[index[0] + 1, 'Open']\u001b[0m\u001b[0;34m\u001b[0m\u001b[0;34m\u001b[0m\u001b[0m\n\u001b[1;32m    135\u001b[0m                 \u001b[0minitialPrice\u001b[0m \u001b[0;34m=\u001b[0m \u001b[0mdividers\u001b[0m\u001b[0;34m[\u001b[0m\u001b[0;36m0\u001b[0m\u001b[0;34m]\u001b[0m\u001b[0;34m\u001b[0m\u001b[0m\n\u001b[0;32m--> 136\u001b[0;31m                 \u001b[0mfinalPrice\u001b[0m \u001b[0;34m=\u001b[0m \u001b[0mdividers\u001b[0m\u001b[0;34m[\u001b[0m\u001b[0;36m1\u001b[0m\u001b[0;34m]\u001b[0m\u001b[0;34m\u001b[0m\u001b[0m\n\u001b[0m\u001b[1;32m    137\u001b[0m                 \u001b[0mrates\u001b[0m\u001b[0;34m[\u001b[0m\u001b[0mi\u001b[0m\u001b[0;34m,\u001b[0m \u001b[0;36m0\u001b[0m\u001b[0;34m]\u001b[0m \u001b[0;34m=\u001b[0m \u001b[0;36m1\u001b[0m\u001b[0;34m/\u001b[0m\u001b[0;34m(\u001b[0m\u001b[0mfinalPrice\u001b[0m\u001b[0;34m/\u001b[0m\u001b[0minitialPrice\u001b[0m\u001b[0;34m)\u001b[0m\u001b[0;34m\u001b[0m\u001b[0m\n\u001b[1;32m    138\u001b[0m             \u001b[0;32melse\u001b[0m\u001b[0;34m:\u001b[0m\u001b[0;34m\u001b[0m\u001b[0m\n",
      "\u001b[0;31mIndexError\u001b[0m: index 1 is out of bounds for axis 0 with size 1"
     ]
    }
   ],
   "source": [
    "data = DataManager(batch_size = 50, batch_count = 5000000, batch_offset=0)\n",
    "#data.prepareData(testSim, reset=True)\n",
    "\n"
   ]
  },
  {
   "cell_type": "code",
   "execution_count": null,
   "metadata": {},
   "outputs": [],
   "source": [
    "feedBackup = data.readFiles(0, 1000)"
   ]
  },
  {
   "cell_type": "code",
   "execution_count": null,
   "metadata": {},
   "outputs": [],
   "source": []
  },
  {
   "cell_type": "code",
   "execution_count": null,
   "metadata": {},
   "outputs": [],
   "source": [
    "print(np.array_equal(test2[0][2], test1[0][1]))\n"
   ]
  },
  {
   "cell_type": "code",
   "execution_count": null,
   "metadata": {
    "scrolled": true
   },
   "outputs": [],
   "source": [
    "def main():\n",
    "    feed = feedBackup.copy()\n",
    "    seeds = [3, 5, 7]\n",
    "    tf.reset_default_graph()\n",
    "    \n",
    "    sess = tf.Session(config=tf.ConfigProto(log_device_placement=True))\n",
    "    tf.set_random_seed(seeds[0])\n",
    "    test1 = Agent(len(testSim.currencies), sess)\n",
    "    sess.run(tf.global_variables_initializer())\n",
    "\n",
    "    testData = feed[5]\n",
    "    feed.pop(5)\n",
    "    #print(testData)\n",
    "    prices = []\n",
    "    changes = []\n",
    "    for data in feed:\n",
    "        prices.append(data[1])\n",
    "        changes.append(data[2])\n",
    "        if np.isinf(data[1]).any() == True:\n",
    "            print(\"FOUND in price\")\n",
    "        if np.isinf(data[2]).any() == True:\n",
    "            print('FOUND in change')\n",
    "    batch_size = 1000\n",
    "    \n",
    "    priceMatrix = np.concatenate(prices)\n",
    "    changeMatrix = np.concatenate(changes)\n",
    "\n",
    "   \n",
    "    indexSize = priceMatrix.shape[0]/batch_size\n",
    "    try:\n",
    "        for episode in range(50):\n",
    "            print(\"Episode: {}\".format(episode))\n",
    "            index = list(range(int(indexSize)))\n",
    "            batches = len(index)\n",
    "            loss = 0\n",
    "            count = len(feed)\n",
    "            while len(index) != 0:\n",
    "                for i in random.sample(index, 1):\n",
    "                    with tf.device('/gpu:0'):\n",
    "                        addToLoss = test1.train_step(priceMatrix[i*batch_size:i*batch_size + batch_size], changeMatrix[i*batch_size:i*batch_size + batch_size])\n",
    "                        loss += addToLoss\n",
    "                        if addToLoss < 0 or addToLoss == np.nan:\n",
    "                            print('Loss at index {}: {}'.format(i,addToLoss))\n",
    "                    index.remove(i)\n",
    "            print(loss/batches)\n",
    "    except KeyboardInterrupt:\n",
    "        print(\"Ending\")\n",
    "        test1.test_model(testData[1], testData[2])\n",
    "    finally:\n",
    "        print(\"Ending\")\n",
    "        test1.test_model(testData[1], testData[2])\n",
    "    print(testData[2])\n",
    "            \n",
    "if __name__ == \"__main__\":\n",
    "    main()"
   ]
  },
  {
   "cell_type": "code",
   "execution_count": null,
   "metadata": {},
   "outputs": [],
   "source": []
  },
  {
   "cell_type": "code",
   "execution_count": null,
   "metadata": {},
   "outputs": [],
   "source": []
  }
 ],
 "metadata": {
  "kernelspec": {
   "display_name": "Python 3",
   "language": "python",
   "name": "python3"
  },
  "language_info": {
   "codemirror_mode": {
    "name": "ipython",
    "version": 3
   },
   "file_extension": ".py",
   "mimetype": "text/x-python",
   "name": "python",
   "nbconvert_exporter": "python",
   "pygments_lexer": "ipython3",
   "version": "3.6.4"
  }
 },
 "nbformat": 4,
 "nbformat_minor": 2
}
