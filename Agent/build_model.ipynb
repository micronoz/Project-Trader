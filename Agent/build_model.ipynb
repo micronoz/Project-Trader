{
 "cells": [
  {
   "cell_type": "code",
   "execution_count": 2,
   "metadata": {},
   "outputs": [],
   "source": [
    "import tensorflow as tf"
   ]
  },
  {
   "cell_type": "code",
   "execution_count": null,
   "metadata": {},
   "outputs": [],
   "source": [
    "class ModelGen:\n",
    "    def __init__(self):\n",
    "        pass\n",
    "    def generateModel(self, modelEncoding, session):\n",
    "        self._s = session\n",
    "    def act(self, observation):\n",
    "        return self._s.run(self._allocate, feed_dict={self.inputT: observation})\n",
    "    \n",
    "    def train_step(self, obs, prices):\n",
    "        batch_feed = {self.inputT : obs,\n",
    "                     self.priceChanges: prices\n",
    "                     }\n",
    "        _, lossValue = self._s.run([self._train, self.averageLoss], feed_dict=batch_feed)\n",
    "        return lossValue\n",
    "    def test_model(self, obs, prices):\n",
    "        print(self._s.run(self.averageLoss, feed_dict={self.inputT : obs, self.priceChanges: prices}))\n",
    "        print(prices)\n",
    "        "
   ]
  }
 ],
 "metadata": {
  "kernelspec": {
   "display_name": "Python 3",
   "language": "python",
   "name": "python3"
  },
  "language_info": {
   "codemirror_mode": {
    "name": "ipython",
    "version": 3
   },
   "file_extension": ".py",
   "mimetype": "text/x-python",
   "name": "python",
   "nbconvert_exporter": "python",
   "pygments_lexer": "ipython3",
   "version": "3.6.5"
  }
 },
 "nbformat": 4,
 "nbformat_minor": 2
}
