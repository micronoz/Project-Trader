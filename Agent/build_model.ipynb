{
 "cells": [
  {
   "cell_type": "code",
   "execution_count": 2,
   "metadata": {},
   "outputs": [],
   "source": [
    "import tensorflow as tf"
   ]
  },
  {
   "cell_type": "code",
   "execution_count": 1,
   "metadata": {},
   "outputs": [],
   "source": [
    "class ModelGen:\n",
    "    def __init__(self):\n",
    "        pass\n",
    "    def generateModel(self, layers, session, numberOfCurrencies, timeFrame=50):\n",
    "        self._s = session\n",
    "        self.finalModel = []\n",
    "        self.finalModel.append(tf.placeholder(shape=[None, numberOfCurrencies, timeFrame, 4], dtype=tf.float32))\n",
    "        layerCount = 0\n",
    "        for layer in layers:\n",
    "            if layer[\"type\"] == 'conv':            \n",
    "                self.finalModel.append(tf.layers.conv(inputs=finalModel[layerCount], filters=layer[\"filters\"], kernel_size = [1,layer[\"size\"]], activation=layer[\"activation\"]))\n",
    "            elif layer[\"type\"] == 'dense':\n",
    "                self.finalModel.append(tf.layers.dense(inputs=finalModel[layerCount], layer[\"size\"], activation=layer[\"activation\"]))\n",
    "        self.finalModel.append(tf.nn.softmax(self.finalModel[-1], axis=1))\n",
    "        \n",
    "        self.priceChanges = tf.placeholder(shape=[None, numberOfCurrencies, 1], dtype=tf.float32)\n",
    "        self._allocate = finalModel[-1]\n",
    "        \n",
    "        self.averageLoss = tf.reduce_mean(tf.matmul(tf.matrix_transpose(self.priceChanges), \n",
    "                                             tf.scalar_mul(tf.constant(initialPortfolio), \n",
    "                                               tf.reshape(self._allocate, [-1, numberOfCurrencies, 1]))))\n",
    "\n",
    "        self.loss = tf.exp(tf.reduce_sum(tf.multiply(-tf.log(self.priceChanges), tf.reshape(self._allocate, [tf.shape(self._allocate)[0], numberOfCurrencies, 1]))))\n",
    "        self.optimizer = tf.train.AdamOptimizer(learning_rate=0.001)\n",
    "        self._train = self.optimizer.minimize(self.loss)\n",
    "        \n",
    "    def act(self, observation):\n",
    "        return self._s.run(self._allocate, feed_dict={self.inputT: observation})\n",
    "    \n",
    "    def train_step(self, obs, prices):\n",
    "        batch_feed = {self.inputT : obs,\n",
    "                     self.priceChanges: prices\n",
    "                     }\n",
    "        _, lossValue = self._s.run([self._train, self.averageLoss], feed_dict=batch_feed)\n",
    "        return lossValue\n",
    "    def test_model(self, obs, prices):\n",
    "        print(self._s.run(self.averageLoss, feed_dict={self.inputT : obs, self.priceChanges: prices}))\n",
    "        print(prices)\n",
    "        "
   ]
  },
  {
   "cell_type": "code",
   "execution_count": null,
   "metadata": {},
   "outputs": [],
   "source": []
  }
 ],
 "metadata": {
  "kernelspec": {
   "display_name": "Python 3",
   "language": "python",
   "name": "python3"
  },
  "language_info": {
   "codemirror_mode": {
    "name": "ipython",
    "version": 3
   },
   "file_extension": ".py",
   "mimetype": "text/x-python",
   "name": "python",
   "nbconvert_exporter": "python",
   "pygments_lexer": "ipython3",
   "version": "3.6.5"
  }
 },
 "nbformat": 4,
 "nbformat_minor": 2
}
