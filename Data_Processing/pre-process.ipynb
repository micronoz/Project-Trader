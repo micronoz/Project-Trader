{
 "cells": [
  {
   "cell_type": "code",
   "execution_count": 26,
   "metadata": {},
   "outputs": [],
   "source": [
    "import pandas as pd\n",
    "import zipfile\n",
    "import os\n",
    "import shutil"
   ]
  },
  {
   "cell_type": "code",
   "execution_count": 27,
   "metadata": {},
   "outputs": [
    {
     "name": "stdout",
     "output_type": "stream",
     "text": [
      "{'USDTRY', 'EURUSD', 'USDJPY'}\n"
     ]
    }
   ],
   "source": [
    "currencies = ['EURUSD', 'USD', 'TRY', 'USDJPY', 'USDTRY']\n",
    "masterDir = \"/media/nabi/DATA/Data/\"\n",
    "dirs = os.listdir(masterDir)\n",
    "years = []\n",
    "for word in dirs:\n",
    "    if '20' in word:\n",
    "        years.append(word)\n",
    "availableCurrencies = set()\n",
    "for year in years:\n",
    "    for elements in os.listdir(masterDir + year): \n",
    "        if elements in currencies:\n",
    "            availableCurrencies.add(elements)\n",
    "print(availableCurrencies)"
   ]
  },
  {
   "cell_type": "code",
   "execution_count": 28,
   "metadata": {},
   "outputs": [],
   "source": [
    "pairs = []\n",
    "for pair in availableCurrencies:\n",
    "    if pair in currencies:\n",
    "        pairs.append(pair)"
   ]
  },
  {
   "cell_type": "code",
   "execution_count": 29,
   "metadata": {},
   "outputs": [],
   "source": [
    "class PairData:\n",
    "    def __init__(self, name, tick:str):\n",
    "        self.name = name\n",
    "        self.data = tick\n",
    "        self.month = {\"01\":None, \"02\":None,\"03\":None, \"04\":None, \"05\":None, \n",
    "                      \"06\":None, \"07\":None, \"08\":None, \"09\":None, \"10\":None,\n",
    "                      \"11\":None, \"12\":None}\n",
    "        self.year = dict()\n",
    "    def addMonth(self, framePath):\n",
    "        index = framePath.find('_20')\n",
    "        yearSelect = framePath[index+1 : index + 5]\n",
    "        if yearSelect not in self.year.keys():\n",
    "            self.year[yearSelect] = self.month.copy()\n",
    "        if framePath[index+5] != '.':\n",
    "            monthSelect = framePath[index + 5 : index + 7]\n",
    "        else:\n",
    "            monthSelect = \"01\"\n",
    "            if self.year[yearSelect][monthSelect] != None:\n",
    "                return\n",
    "        if monthSelect not in self.month.keys():\n",
    "            return\n",
    "        \n",
    "        self.year[yearSelect][monthSelect] = pd.read_csv(framePath, header=None, delimiter=';')\n",
    "    def getMonth(self, monthIn, yearIn):\n",
    "        return self.year[yearIn][monthIn]\n",
    "    def getHistory(self):\n",
    "        return self.year"
   ]
  },
  {
   "cell_type": "code",
   "execution_count": 30,
   "metadata": {},
   "outputs": [],
   "source": [
    "if not os.path.exists('./ProcessedData/'):\n",
    "    os.makedirs('./ProcessedData/')"
   ]
  },
  {
   "cell_type": "code",
   "execution_count": 31,
   "metadata": {},
   "outputs": [],
   "source": [
    "def unzipFiles(pathName):\n",
    "    files = os.listdir(pathName)\n",
    "    unzipName = pathName + 'Unzip'\n",
    "    if not os.path.exists(unzipName):\n",
    "        os.makedirs(unzipName)\n",
    "    doneFile = unzipName + '/Done.txt'\n",
    "    if not os.path.exists(doneFile):\n",
    "        f = open(doneFile, 'w')\n",
    "        for file in files:\n",
    "            print(file)\n",
    "            if 'ASCII' in file and '.zip' in file:\n",
    "                zip_file = zipfile.ZipFile(pathName + file, 'r')\n",
    "                zip_file.extractall(unzipName + '/')\n",
    "                zip_file.close()\n",
    "        unzippedFiles = os.listdir(unzipName + '/')\n",
    "        tickFolder = unzipName + '/' + 'Tick/'\n",
    "        minuteFolder = unzipName + '/' + 'Minute/'\n",
    "        if not os.path.exists(tickFolder):\n",
    "            os.makedirs(tickFolder)\n",
    "        if not os.path.exists(minuteFolder):\n",
    "            os.makedirs(minuteFolder)\n",
    "        for file in unzippedFiles:\n",
    "            if '.csv' in file:\n",
    "                if '_T_' in file:\n",
    "                    shutil.move(unzipName + '/' + file, tickFolder + '/' + file)\n",
    "                if '_M1_' in file:\n",
    "                    print(file)\n",
    "                    shutil.move(unzipName + '/' + file, minuteFolder + '/' + file)"
   ]
  },
  {
   "cell_type": "code",
   "execution_count": 32,
   "metadata": {},
   "outputs": [],
   "source": [
    "#Pre-process data from HistData.com. Unzips files and arranges in folders.\n",
    "for pair in pairs:\n",
    "    found = False\n",
    "    for year in years:\n",
    "        pathName = masterDir + year + '/' + pair + '/'\n",
    "        if os.path.isdir(pathName):\n",
    "            found = True\n",
    "            unzipFiles(pathName)\n",
    "    if not found:\n",
    "        pairs.remove(pair)"
   ]
  },
  {
   "cell_type": "code",
   "execution_count": 33,
   "metadata": {},
   "outputs": [
    {
     "name": "stdout",
     "output_type": "stream",
     "text": [
      "2000\n",
      "USDTRY\n",
      "EURUSD\n",
      "USDJPY\n",
      "2001\n",
      "USDTRY\n",
      "EURUSD\n",
      "USDJPY\n",
      "2002\n",
      "USDTRY\n",
      "EURUSD\n",
      "USDJPY\n",
      "2003\n",
      "USDTRY\n",
      "EURUSD\n",
      "USDJPY\n",
      "2004\n",
      "USDTRY\n",
      "EURUSD\n",
      "USDJPY\n",
      "2005\n",
      "USDTRY\n",
      "EURUSD\n",
      "USDJPY\n",
      "2006\n",
      "USDTRY\n",
      "EURUSD\n",
      "USDJPY\n",
      "2007\n",
      "USDTRY\n",
      "EURUSD\n",
      "USDJPY\n",
      "2008\n",
      "USDTRY\n",
      "EURUSD\n",
      "USDJPY\n",
      "2009\n",
      "USDTRY\n",
      "EURUSD\n",
      "USDJPY\n",
      "2010\n",
      "USDTRY\n",
      "EURUSD\n",
      "USDJPY\n",
      "2011\n",
      "USDTRY\n",
      "EURUSD\n",
      "USDJPY\n",
      "2012\n",
      "USDTRY\n",
      "EURUSD\n",
      "USDJPY\n",
      "2013\n",
      "USDTRY\n",
      "EURUSD\n",
      "USDJPY\n",
      "2014\n",
      "USDTRY\n",
      "EURUSD\n",
      "USDJPY\n",
      "2015\n",
      "USDTRY\n",
      "EURUSD\n",
      "USDJPY\n",
      "2016\n",
      "USDTRY\n",
      "EURUSD\n",
      "USDJPY\n",
      "2017\n",
      "USDTRY\n",
      "EURUSD\n",
      "USDJPY\n",
      "2018\n",
      "USDTRY\n",
      "EURUSD\n",
      "USDJPY\n"
     ]
    }
   ],
   "source": [
    "#Scan the arranged files and insert into a PairData object\n",
    "dataFrames = {}\n",
    "for year in years:\n",
    "    print(year)\n",
    "    for pair in pairs:\n",
    "        print(pair)\n",
    "        if pair not in dataFrames.keys():\n",
    "            dataFrames[pair] = PairData(pair, 'min')\n",
    "        currentPair = dataFrames[pair]\n",
    "        pathName = masterDir + year + '/' + pair + '/'\n",
    "        if not os.path.isdir(pathName):\n",
    "            continue\n",
    "        files = os.listdir(pathName)\n",
    "        unzipName = pathName + 'Unzip'\n",
    "        unzipName += '/Minute'\n",
    "        frames = os.listdir(unzipName)\n",
    "        for frame in frames:\n",
    "            if 'DAT' in frame:\n",
    "                currentPair.addMonth(unzipName + '/' + frame)"
   ]
  },
  {
   "cell_type": "code",
   "execution_count": 34,
   "metadata": {},
   "outputs": [],
   "source": [
    "frameCollections = dict()\n",
    "\n",
    "for key, value in dataFrames.items():\n",
    "    currentPair = dataFrames[key].getHistory()\n",
    "    concatFrames = []\n",
    "    frameCollections[key] = concatFrames\n",
    "    for yearkey in sorted(currentPair.keys()):\n",
    "        for monthkey in sorted(currentPair[yearkey].keys()):\n",
    "            if currentPair[yearkey][monthkey] is not None:\n",
    "                concatFrames.append(currentPair[yearkey][monthkey])"
   ]
  },
  {
   "cell_type": "code",
   "execution_count": 35,
   "metadata": {},
   "outputs": [],
   "source": [
    "for key in frameCollections.keys():\n",
    "    currentPair = frameCollections[key]\n",
    "    df = pd.concat(currentPair)\n",
    "    pd.set_option('display.max_columns', 30)\n",
    "    df.columns = ['Timestamp', 'Open', 'High', 'Low', 'Close', 'Vol']\n",
    "    df = df.drop(columns=['Vol'])\n",
    "    df.reset_index(drop=True, inplace=True)\n",
    "    file_name = './ProcessedData/' + key + '.csv'\n",
    "    df.to_csv(file_name, sep='\\t')"
   ]
  },
  {
   "cell_type": "code",
   "execution_count": null,
   "metadata": {},
   "outputs": [],
   "source": []
  }
 ],
 "metadata": {
  "kernelspec": {
   "display_name": "Python 3",
   "language": "python",
   "name": "python3"
  },
  "language_info": {
   "codemirror_mode": {
    "name": "ipython",
    "version": 3
   },
   "file_extension": ".py",
   "mimetype": "text/x-python",
   "name": "python",
   "nbconvert_exporter": "python",
   "pygments_lexer": "ipython3",
   "version": "3.6.4"
  }
 },
 "nbformat": 4,
 "nbformat_minor": 2
}
