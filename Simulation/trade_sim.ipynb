{
 "cells": [
  {
   "cell_type": "code",
   "execution_count": 20,
   "metadata": {},
   "outputs": [],
   "source": [
    "import pandas as pd\n",
    "import os\n",
    "import random"
   ]
  },
  {
   "cell_type": "code",
   "execution_count": 21,
   "metadata": {},
   "outputs": [],
   "source": [
    "class Portfolio:\n",
    "    def __init__(self, pairs, dataPath):\n",
    "        self.pairs = pairs\n",
    "        self.m = len(self.pairs)\n",
    "        self.portfolio = [None] * self.m\n",
    "        df = []\n",
    "        availableFiles = os.listdir(dataPath)\n",
    "        for pair in pairs:\n",
    "            if dataPath.endswith('/'):\n",
    "                if os.path.isfile(dataPath + pair):\n",
    "                    df.append(pd.read_csv(dataPath + pair))\n",
    "            else:\n",
    "                if os.path.isfile(dataPath + '/' + pair):\n",
    "                    df.append(pd.read_csv(dataPath + '/' + pair))\n",
    "    \n",
    "    def getPortfolioSize(self):\n",
    "        return self.m\n",
    "    def getPairs(self):\n",
    "        return self.pairs\n",
    "    def initPortfolio(self):\n",
    "        index = 0\n",
    "        while index < len(self.portfolio):\n",
    "            self.portfolio[index] = random.random()\n",
    "            index += 1\n",
    "        sumNum = sum(self.portfolio)\n",
    "        index = 0\n",
    "        while index < len(self.portfolio):\n",
    "            self.portfolio[index] /= sumNum\n",
    "            self.portfolio[index] = round(self.portfolio[index],2)\n",
    "            index += 1\n",
    "        print(self.portfolio)\n",
    "    def reallocate(self, currencyAllocation):\n",
    "        pass\n",
    "    def timestep(self):\n",
    "        pass"
   ]
  },
  {
   "cell_type": "code",
   "execution_count": 22,
   "metadata": {},
   "outputs": [
    {
     "name": "stdout",
     "output_type": "stream",
     "text": [
      "[0.88, 0.12]\n"
     ]
    }
   ],
   "source": [
    "def main():\n",
    "    test = Portfolio(['EURUSD', 'USDTRY'], '../Data_Processing/ProcessedData')\n",
    "    size = test.getPortfolioSize()\n",
    "    test.initPortfolio()\n",
    "if __name__=='__main__':\n",
    "    main()"
   ]
  }
 ],
 "metadata": {
  "kernelspec": {
   "display_name": "Python 3",
   "language": "python",
   "name": "python3"
  },
  "language_info": {
   "codemirror_mode": {
    "name": "ipython",
    "version": 3
   },
   "file_extension": ".py",
   "mimetype": "text/x-python",
   "name": "python",
   "nbconvert_exporter": "python",
   "pygments_lexer": "ipython3",
   "version": "3.6.5"
  }
 },
 "nbformat": 4,
 "nbformat_minor": 2
}
