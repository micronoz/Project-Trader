{
 "cells": [
  {
   "cell_type": "code",
   "execution_count": 9,
   "metadata": {},
   "outputs": [],
   "source": [
    "import pandas as pd\n",
    "import os"
   ]
  },
  {
   "cell_type": "code",
   "execution_count": 10,
   "metadata": {},
   "outputs": [],
   "source": [
    "class Portfolio:\n",
    "    def __init__(self, portfolioSize, pairs, dataPath):\n",
    "        self.m = portfolioSize\n",
    "        self.pairs = pairs\n",
    "        df = []\n",
    "        availableFiles = os.listdir(dataPath)\n",
    "        for pair in pairs:\n",
    "            if dataPath.endswith('/'):\n",
    "                if os.path.isfile(dataPath + pair):\n",
    "                    df.append(pd.read_csv(dataPath + pair))\n",
    "            else:\n",
    "                if os.path.isfile(dataPath + '/' + pair):\n",
    "                    df.append(pd.read_csv(dataPath + '/' + pair))\n",
    "    \n",
    "    def initPortfolio(initAllocation):\n",
    "        pass\n",
    "    def reallocate(currencyAllocation):\n",
    "        pass\n",
    "    def timestep():\n",
    "        pass"
   ]
  },
  {
   "cell_type": "code",
   "execution_count": 11,
   "metadata": {},
   "outputs": [
    {
     "name": "stdout",
     "output_type": "stream",
     "text": [
      "Hi\n"
     ]
    }
   ],
   "source": [
    "def main():\n",
    "    test = Portfolio(1, ['EURUSD'], '../Data_Processing/ProcessedData')\n",
    "\n",
    "if __name__=='__main__':\n",
    "    main()"
   ]
  },
  {
   "cell_type": "code",
   "execution_count": null,
   "metadata": {},
   "outputs": [],
   "source": []
  }
 ],
 "metadata": {
  "kernelspec": {
   "display_name": "Python 3",
   "language": "python",
   "name": "python3"
  },
  "language_info": {
   "codemirror_mode": {
    "name": "ipython",
    "version": 3
   },
   "file_extension": ".py",
   "mimetype": "text/x-python",
   "name": "python",
   "nbconvert_exporter": "python",
   "pygments_lexer": "ipython3",
   "version": "3.6.5"
  }
 },
 "nbformat": 4,
 "nbformat_minor": 2
}
