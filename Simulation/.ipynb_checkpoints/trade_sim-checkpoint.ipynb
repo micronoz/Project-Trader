{
 "cells": [
  {
   "cell_type": "code",
   "execution_count": 1,
   "metadata": {},
   "outputs": [],
   "source": [
    "import pandas as pd\n",
    "import os"
   ]
  },
  {
   "cell_type": "code",
   "execution_count": 2,
   "metadata": {},
   "outputs": [],
   "source": [
    "class Portfolio:\n",
    "    def __init__(self, potfolioSize, pairs, dataPath):\n",
    "        self.m = portfolioSize\n",
    "        self.pairs = pairs\n",
    "        df = []\n",
    "        availableFiles = os.path.listdir(dataPath)\n",
    "        for pair in pairs:\n",
    "            if dataPath.endswith('/'):\n",
    "                if os.path.isfile(dataPath + pair):\n",
    "                    df.append(pd.read_csv(dataPath + pair))\n",
    "            else:\n",
    "                if os.path.isfile(dataPath + '/' + pair):\n",
    "                    df.append(pd.read_csv(dataPath + '/' + pair))\n",
    "    \n",
    "    def initPortfolio(initAllocation):\n",
    "        pass\n",
    "    def reallocate(currencyAllocation):\n",
    "        pass\n",
    "    def timestep():\n",
    "        pass"
   ]
  }
 ],
 "metadata": {
  "kernelspec": {
   "display_name": "Python 3",
   "language": "python",
   "name": "python3"
  },
  "language_info": {
   "codemirror_mode": {
    "name": "ipython",
    "version": 3
   },
   "file_extension": ".py",
   "mimetype": "text/x-python",
   "name": "python",
   "nbconvert_exporter": "python",
   "pygments_lexer": "ipython3",
   "version": "3.6.5"
  }
 },
 "nbformat": 4,
 "nbformat_minor": 2
}
