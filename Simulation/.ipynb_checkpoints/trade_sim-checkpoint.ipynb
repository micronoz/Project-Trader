{
 "cells": [
  {
   "cell_type": "code",
   "execution_count": 20,
   "metadata": {},
   "outputs": [],
   "source": [
    "import pandas as pd\n",
    "import os\n",
    "import random"
   ]
  },
  {
   "cell_type": "code",
   "execution_count": 25,
   "metadata": {},
   "outputs": [],
   "source": [
    "class Market:\n",
    "    def __init__(self, pairs, dataPath, referenceCurrency='USD', initialValue=1000, transactionFee=0.005):\n",
    "        self.pairs = pairs\n",
    "        self.m = len(self.pairs)\n",
    "        self.portfolio = [None] * (self.m + 1)\n",
    "        self.currencies = []\n",
    "        self.currencies.append(referenceCurrency)\n",
    "        for pair in self.pairs:\n",
    "            if pair[:3] not in self.currencies:\n",
    "                self.currencies.append(pair[:3])\n",
    "        df = {}\n",
    "        availableFiles = os.listdir(dataPath)\n",
    "        for pair in pairs:\n",
    "            if dataPath.endswith('/'):\n",
    "                if os.path.isfile(dataPath + pair + '.csv'):\n",
    "                    df[pair] = pd.read_csv(dataPath + pair + '.csv')\n",
    "                else:\n",
    "                    raise ValueError(\"Wrong file path.\")\n",
    "            else:\n",
    "                if os.path.isfile(dataPath + '/' + pair + '.csv'):\n",
    "                    df[pair] = (pd.read_csv(dataPath + '/' + pair + '.csv'))\n",
    "                else:\n",
    "                    raise ValueError(\"Wrong file path.\")\n",
    "    \n",
    "    def getPortfolioSize(self):\n",
    "        return self.m\n",
    "    def getPairs(self):\n",
    "        return self.pairs\n",
    "    def initPortfolio(self):\n",
    "        index = 0\n",
    "        while index < len(self.portfolio):\n",
    "            self.portfolio[index] = random.random()\n",
    "            index += 1\n",
    "        sumNum = sum(self.portfolio)\n",
    "        index = 0\n",
    "        while index < len(self.portfolio):\n",
    "            self.portfolio[index] /= sumNum\n",
    "            self.portfolio[index] = round(self.portfolio[index],2)\n",
    "            index += 1\n",
    "        print(self.currencies)\n",
    "    def reallocate(self, currencyAllocation):\n",
    "        exchange = self.portfolio - currencyAllocation\n",
    "    def timestep(self):\n",
    "        pass\n",
    "    def queryPrice(self, currency):\n",
    "        pass"
   ]
  },
  {
   "cell_type": "code",
   "execution_count": 26,
   "metadata": {},
   "outputs": [
    {
     "name": "stdout",
     "output_type": "stream",
     "text": [
      "['USD', 'EUR']\n"
     ]
    }
   ],
   "source": [
    "def main():\n",
    "    test = Market(['EURUSD'], os.path.abspath('../Data_Processing/ProcessedData'))\n",
    "    size = test.getPortfolioSize()\n",
    "    test.initPortfolio()\n",
    "if __name__=='__main__':\n",
    "    main()"
   ]
  },
  {
   "cell_type": "code",
   "execution_count": null,
   "metadata": {},
   "outputs": [],
   "source": []
  }
 ],
 "metadata": {
  "kernelspec": {
   "display_name": "Python 3",
   "language": "python",
   "name": "python3"
  },
  "language_info": {
   "codemirror_mode": {
    "name": "ipython",
    "version": 3
   },
   "file_extension": ".py",
   "mimetype": "text/x-python",
   "name": "python",
   "nbconvert_exporter": "python",
   "pygments_lexer": "ipython3",
   "version": "3.6.5"
  }
 },
 "nbformat": 4,
 "nbformat_minor": 2
}
